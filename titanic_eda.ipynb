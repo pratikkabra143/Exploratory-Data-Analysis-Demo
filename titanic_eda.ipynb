{
 "cells": [
  {
   "cell_type": "markdown",
   "id": "0e1ac234",
   "metadata": {},
   "source": [
    "# Exploratory Data Analysis (EDA)\n",
    "##### Over Titanic Dataset (Source: [Kaggle](https://www.kaggle.com/competitions/titanic/data))\n",
    "\n",
    "Notes:\n",
    "- After running this notebook you should find 'titanic_with_features.csv' in the repository root."
   ]
  },
  {
   "cell_type": "markdown",
   "id": "c4ad141d",
   "metadata": {},
   "source": [
    "### Step 1: Setup  and Data Loading"
   ]
  },
  {
   "cell_type": "markdown",
   "id": "15213804",
   "metadata": {},
   "source": [
    "##### Import all necessary libraries and set global plot styles"
   ]
  },
  {
   "cell_type": "code",
   "execution_count": null,
   "id": "fbcc08b7",
   "metadata": {},
   "outputs": [],
   "source": [
    "import pandas as pd\n",
    "import numpy as np\n",
    "import matplotlib.pyplot as plt\n",
    "import seaborn as sns\n",
    "import warnings\n",
    "warnings.filterwarnings('ignore')\n",
    "\n",
    "plt.style.use(\"default\")\n",
    "sns.set_palette(\"husl\")\n",
    "plt.rcParams['figure.figsize'] = (10, 6)"
   ]
  },
  {
   "cell_type": "markdown",
   "id": "6e35e6fc",
   "metadata": {},
   "source": [
    "##### Load the Titanic Dataset"
   ]
  },
  {
   "cell_type": "code",
   "execution_count": null,
   "id": "4f3c88f3",
   "metadata": {},
   "outputs": [],
   "source": [
    "df = pd.read_csv('data/titanic.csv')\n",
    "print(\"Data loaded successfully\")\n",
    "print(f\"Dataset shape: {df.shape}\")"
   ]
  },
  {
   "cell_type": "markdown",
   "id": "6b310425",
   "metadata": {},
   "source": [
    "### Step 2: Initial Data Exploration"
   ]
  },
  {
   "cell_type": "markdown",
   "id": "3a2ca1f3",
   "metadata": {},
   "source": [
    "##### Basic information about the dataset"
   ]
  },
  {
   "cell_type": "code",
   "execution_count": null,
   "id": "1dc6299a",
   "metadata": {},
   "outputs": [],
   "source": [
    "print(\"Dataset Information:\")\n",
    "print(df.info())"
   ]
  },
  {
   "cell_type": "markdown",
   "id": "0d3099fb",
   "metadata": {},
   "source": [
    "##### Display first few rows        "
   ]
  },
  {
   "cell_type": "code",
   "execution_count": null,
   "id": "de46de28",
   "metadata": {},
   "outputs": [],
   "source": [
    "print(\"First 5 rows:\")\n",
    "print(df.head())"
   ]
  },
  {
   "cell_type": "markdown",
   "id": "2a5fb784",
   "metadata": {},
   "source": [
    "##### Basic statistical summary"
   ]
  },
  {
   "cell_type": "code",
   "execution_count": null,
   "id": "85df5298",
   "metadata": {},
   "outputs": [],
   "source": [
    "print(\"Statistical Summary:\")\n",
    "print(df.describe())"
   ]
  },
  {
   "cell_type": "markdown",
   "id": "760fe887",
   "metadata": {},
   "source": [
    "##### Check for Missing Values"
   ]
  },
  {
   "cell_type": "code",
   "execution_count": null,
   "id": "e72363c7",
   "metadata": {},
   "outputs": [],
   "source": [
    "print(\"Missing Values:\")\n",
    "missing_data = df.isnull().sum()\n",
    "missing_percentage = (missing_data / len(df)) * 100\n",
    "missing_df = pd.DataFrame({\n",
    "    'Missing Count': missing_data,\n",
    "    'Percentage': missing_percentage\n",
    "})\n",
    "print(missing_df[missing_df['Missing Count'] > 0])"
   ]
  },
  {
   "cell_type": "markdown",
   "id": "9179826a",
   "metadata": {},
   "source": [
    "### Step 3: Categorical Variables Analysis"
   ]
  },
  {
   "cell_type": "markdown",
   "id": "18b62d44",
   "metadata": {},
   "source": [
    "##### Survival rate analysis"
   ]
  },
  {
   "cell_type": "code",
   "execution_count": null,
   "id": "72b3d913",
   "metadata": {},
   "outputs": [],
   "source": [
    "print(\"=== SURVIVAL ANALYSIS ===\")\n",
    "survival_counts = df['Survived'].value_counts()\n",
    "survival_rate = df['Survived'].mean()\n",
    "print(f\"Survival Counts:\\n{survival_counts}\")\n",
    "print(f\"Overall Survival Rate: {survival_rate:.2%}\")\n",
    "\n",
    "# Visualize survival\n",
    "plt.figure(figsize=(8, 5))\n",
    "plt.subplot(1, 2, 1)\n",
    "df['Survived'].value_counts().plot(kind='bar', color=['red', 'green'])\n",
    "plt.title('Survival Count')\n",
    "plt.xlabel('Survived (0=No, 1=Yes)')\n",
    "plt.ylabel('Count')\n",
    "plt.xticks(rotation=0)\n",
    "\n",
    "plt.subplot(1, 2, 2)\n",
    "df['Survived'].value_counts().plot(kind='pie', autopct='%1.1f%%', colors=['red', 'green'])\n",
    "plt.title('Survival Percentage')\n",
    "plt.ylabel('')\n",
    "plt.tight_layout()\n",
    "plt.show()"
   ]
  },
  {
   "cell_type": "markdown",
   "id": "6a4c6c34",
   "metadata": {},
   "source": [
    "##### Gender analysis"
   ]
  },
  {
   "cell_type": "code",
   "execution_count": null,
   "id": "e6cbddec",
   "metadata": {},
   "outputs": [],
   "source": [
    "print(\"=== GENDER ANALYSIS ===\")\n",
    "gender_counts = df['Sex'].value_counts()\n",
    "print(f\"Gender Distribution:\\n{gender_counts}\")\n",
    "\n",
    "# Gender vs Survival\n",
    "gender_survival = pd.crosstab(df['Sex'], df['Survived'], margins=True)\n",
    "print(f\"\\nGender vs Survival:\\n{gender_survival}\")\n",
    "\n",
    "# Survival rate by gender\n",
    "survival_by_gender = df.groupby('Sex')['Survived'].agg(['count', 'sum', 'mean'])\n",
    "survival_by_gender.columns = ['Total', 'Survived', 'Survival_Rate']\n",
    "print(f\"\\nSurvival Rate by Gender:\\n{survival_by_gender}\")\n",
    "\n",
    "# Visualize\n",
    "plt.figure(figsize=(12, 5))\n",
    "plt.subplot(1, 2, 1)\n",
    "sns.countplot(data=df, x='Sex', hue='Survived')\n",
    "plt.title('Survival by Gender')\n",
    "\n",
    "plt.subplot(1, 2, 2)\n",
    "sns.barplot(data=df, x='Sex', y='Survived', ci=None)\n",
    "plt.title('Survival Rate by Gender')\n",
    "plt.ylabel('Survival Rate')\n",
    "plt.tight_layout()\n",
    "plt.show()"
   ]
  },
  {
   "cell_type": "markdown",
   "id": "2ecb3055",
   "metadata": {},
   "source": [
    "##### Passenger Class analysis"
   ]
  },
  {
   "cell_type": "code",
   "execution_count": null,
   "id": "3fd0b898",
   "metadata": {},
   "outputs": [],
   "source": [
    "print(\"=== PASSENGER CLASS ANALYSIS ===\")\n",
    "class_counts = df['Pclass'].value_counts().sort_index()\n",
    "print(f\"Class Distribution:\\n{class_counts}\")\n",
    "\n",
    "# Class vs Survival\n",
    "class_survival = pd.crosstab(df['Pclass'], df['Survived'], margins=True)\n",
    "print(f\"\\nClass vs Survival:\\n{class_survival}\")\n",
    "\n",
    "# Survival rate by class\n",
    "survival_by_class = df.groupby('Pclass')['Survived'].agg(['count', 'sum', 'mean'])\n",
    "survival_by_class.columns = ['Total', 'Survived', 'Survival_Rate']\n",
    "print(f\"\\nSurvival Rate by Class:\\n{survival_by_class}\")\n",
    "\n",
    "# Visualize\n",
    "plt.figure(figsize=(12, 5))\n",
    "plt.subplot(1, 2, 1)\n",
    "sns.countplot(data=df, x='Pclass', hue='Survived')\n",
    "plt.title('Survival by Passenger Class')\n",
    "\n",
    "plt.subplot(1, 2, 2)\n",
    "sns.barplot(data=df, x='Pclass', y='Survived', ci=None)\n",
    "plt.title('Survival Rate by Passenger Class')\n",
    "plt.ylabel('Survival Rate')\n",
    "plt.tight_layout()\n",
    "plt.show()"
   ]
  },
  {
   "cell_type": "markdown",
   "id": "b0984de6",
   "metadata": {},
   "source": [
    "##### Embarkation Port analysis"
   ]
  },
  {
   "cell_type": "code",
   "execution_count": null,
   "id": "fe797f1a",
   "metadata": {},
   "outputs": [],
   "source": [
    "# Embarkation port analysis\n",
    "print(\"=== EMBARKATION ANALYSIS ===\")\n",
    "embark_counts = df['Embarked'].value_counts()\n",
    "print(f\"Embarkation Distribution:\\n{embark_counts}\")\n",
    "\n",
    "# Embarked vs Survival\n",
    "embark_survival = pd.crosstab(df['Embarked'], df['Survived'], margins=True)\n",
    "print(f\"\\nEmbarkation vs Survival:\\n{embark_survival}\")\n",
    "\n",
    "# Survival rate by embarkation\n",
    "survival_by_embark = df.groupby('Embarked')['Survived'].agg(['count', 'sum', 'mean'])\n",
    "survival_by_embark.columns = ['Total', 'Survived', 'Survival_Rate']\n",
    "print(f\"\\nSurvival Rate by Embarkation:\\n{survival_by_embark}\")\n",
    "\n",
    "# Visualize\n",
    "plt.figure(figsize=(12, 5))\n",
    "plt.subplot(1, 2, 1)\n",
    "sns.countplot(data=df, x='Embarked', hue='Survived')\n",
    "plt.title('Survival by Embarkation Port')\n",
    "\n",
    "plt.subplot(1, 2, 2)\n",
    "sns.barplot(data=df, x='Embarked', y='Survived', ci=None)\n",
    "plt.title('Survival Rate by Embarkation Port')\n",
    "plt.ylabel('Survival Rate')\n",
    "plt.tight_layout()\n",
    "plt.show()"
   ]
  },
  {
   "cell_type": "markdown",
   "id": "650bcb59",
   "metadata": {},
   "source": [
    "### Step 4: Numerical Variables Analysis"
   ]
  },
  {
   "cell_type": "markdown",
   "id": "e453cdd9",
   "metadata": {},
   "source": [
    "##### Age analysis"
   ]
  },
  {
   "cell_type": "code",
   "execution_count": null,
   "id": "208a45f5",
   "metadata": {},
   "outputs": [],
   "source": [
    "print(\"=== AGE ANALYSIS ===\")\n",
    "age_stats = df['Age'].describe()\n",
    "print(f\"Age Statistics:\\n{age_stats}\")\n",
    "print(f\"Missing Age values: {df['Age'].isnull().sum()}\")\n",
    "\n",
    "# Age distribution\n",
    "plt.figure(figsize=(15, 5))\n",
    "plt.subplot(1, 3, 1)\n",
    "plt.hist(df['Age'].dropna(), bins=30, edgecolor='black', alpha=0.7)\n",
    "plt.title('Age Distribution')\n",
    "plt.xlabel('Age')\n",
    "plt.ylabel('Frequency')\n",
    "\n",
    "plt.subplot(1, 3, 2)\n",
    "sns.boxplot(y=df['Age'])\n",
    "plt.title('Age Boxplot')\n",
    "\n",
    "plt.subplot(1, 3, 3)\n",
    "sns.boxplot(data=df, x='Survived', y='Age')\n",
    "plt.title('Age vs Survival')\n",
    "plt.tight_layout()\n",
    "plt.show()\n",
    "\n",
    "# Age vs Survival analysis\n",
    "age_survival = df.groupby('Survived')['Age'].agg(['count', 'mean', 'median', 'std'])\n",
    "print(f\"\\nAge vs Survival:\\n{age_survival}\")"
   ]
  },
  {
   "cell_type": "markdown",
   "id": "35dcaa0b",
   "metadata": {},
   "source": [
    "##### Fare analysis"
   ]
  },
  {
   "cell_type": "code",
   "execution_count": null,
   "id": "d7dd1c24",
   "metadata": {},
   "outputs": [],
   "source": [
    "print(\"=== FARE ANALYSIS ===\")\n",
    "fare_stats = df['Fare'].describe()\n",
    "print(f\"Fare Statistics:\\n{fare_stats}\")\n",
    "\n",
    "# Fare distribution\n",
    "plt.figure(figsize=(15, 5))\n",
    "plt.subplot(1, 3, 1)\n",
    "plt.hist(df['Fare'], bins=30, edgecolor='black', alpha=0.7)\n",
    "plt.title('Fare Distribution')\n",
    "plt.xlabel('Fare')\n",
    "plt.ylabel('Frequency')\n",
    "\n",
    "plt.subplot(1, 3, 2)\n",
    "sns.boxplot(y=df['Fare'])\n",
    "plt.title('Fare Boxplot')\n",
    "\n",
    "plt.subplot(1, 3, 3)\n",
    "sns.boxplot(data=df, x='Survived', y='Fare')\n",
    "plt.title('Fare vs Survival')\n",
    "plt.tight_layout()\n",
    "plt.show()\n",
    "\n",
    "# Fare vs Survival analysis\n",
    "fare_survival = df.groupby('Survived')['Fare'].agg(['count', 'mean', 'median', 'std'])\n",
    "print(f\"\\nFare vs Survival:\\n{fare_survival}\")"
   ]
  },
  {
   "cell_type": "markdown",
   "id": "19efc524",
   "metadata": {},
   "source": [
    "##### Family Size analysis"
   ]
  },
  {
   "cell_type": "code",
   "execution_count": null,
   "id": "ddd2f0e0",
   "metadata": {},
   "outputs": [],
   "source": [
    "# Family size analysis (SibSp + Parch)\n",
    "print(\"=== FAMILY SIZE ANALYSIS ===\")\n",
    "df['FamilySize'] = df['SibSp'] + df['Parch'] + 1  # +1 for the passenger themselves\n",
    "df['IsAlone'] = (df['FamilySize'] == 1).astype(int)\n",
    "\n",
    "family_stats = df['FamilySize'].describe()\n",
    "print(f\"Family Size Statistics:\\n{family_stats}\")\n",
    "\n",
    "# Family size distribution\n",
    "plt.figure(figsize=(15, 5))\n",
    "plt.subplot(1, 3, 1)\n",
    "sns.countplot(data=df, x='FamilySize')\n",
    "plt.title('Family Size Distribution')\n",
    "\n",
    "plt.subplot(1, 3, 2)\n",
    "sns.barplot(data=df, x='FamilySize', y='Survived', ci=None)\n",
    "plt.title('Survival Rate by Family Size')\n",
    "\n",
    "plt.subplot(1, 3, 3)\n",
    "sns.barplot(data=df, x='IsAlone', y='Survived', ci=None)\n",
    "plt.title('Survival Rate: Alone vs With Family')\n",
    "plt.xticks([0, 1], ['With Family', 'Alone'])\n",
    "plt.tight_layout()\n",
    "plt.show()\n",
    "\n",
    "# Family size vs survival\n",
    "family_survival = df.groupby('FamilySize')['Survived'].agg(['count', 'sum', 'mean'])\n",
    "family_survival.columns = ['Total', 'Survived', 'Survival_Rate']\n",
    "print(f\"\\nSurvival Rate by Family Size:\\n{family_survival}\")"
   ]
  },
  {
   "cell_type": "markdown",
   "id": "94339721",
   "metadata": {},
   "source": [
    "### Step 5: Advanced Visualizations"
   ]
  },
  {
   "cell_type": "markdown",
   "id": "bfdcf4c4",
   "metadata": {},
   "source": [
    "##### Correlation Analysis (Correlation heatmap)"
   ]
  },
  {
   "cell_type": "code",
   "execution_count": null,
   "id": "641b5f7a",
   "metadata": {},
   "outputs": [],
   "source": [
    "print(\"=== CORRELATION ANALYSIS ===\")\n",
    "# Select only numeric columns for correlation\n",
    "numeric_cols = ['Survived', 'Pclass', 'Age', 'SibSp', 'Parch', 'Fare', 'FamilySize', 'IsAlone']\n",
    "correlation_matrix = df[numeric_cols].corr()\n",
    "\n",
    "plt.figure(figsize=(10, 8))\n",
    "sns.heatmap(correlation_matrix, annot=True, cmap='coolwarm', center=0, \n",
    "            square=True, fmt='.2f')\n",
    "plt.title('Correlation Matrix')\n",
    "plt.tight_layout()\n",
    "plt.show()\n",
    "\n",
    "print(\"Strong correlations with Survival:\")\n",
    "survival_corr = correlation_matrix['Survived'].abs().sort_values(ascending=False)\n",
    "print(survival_corr[survival_corr > 0.1])"
   ]
  },
  {
   "cell_type": "markdown",
   "id": "e56dceb7",
   "metadata": {},
   "source": [
    "##### Pairplot for key numeric variables"
   ]
  },
  {
   "cell_type": "code",
   "execution_count": null,
   "id": "da1fabf0",
   "metadata": {},
   "outputs": [],
   "source": [
    "print(\"=== PAIRPLOT ANALYSIS ===\")\n",
    "plt.figure(figsize=(12, 10))\n",
    "key_vars = ['Survived', 'Pclass', 'Age', 'Fare', 'FamilySize']\n",
    "sns.pairplot(df[key_vars], hue='Survived', diag_kind='hist')\n",
    "plt.suptitle('Pairplot of Key Variables', y=1.02)\n",
    "plt.show()"
   ]
  },
  {
   "cell_type": "markdown",
   "id": "8fc39194",
   "metadata": {},
   "source": [
    "##### Multi-dimensional analysis"
   ]
  },
  {
   "cell_type": "code",
   "execution_count": null,
   "id": "0ee7ebf6",
   "metadata": {},
   "outputs": [],
   "source": [
    "print(\"=== MULTI-DIMENSIONAL ANALYSIS ===\")\n",
    "\n",
    "# Gender + Class vs Survival\n",
    "plt.figure(figsize=(15, 10))\n",
    "plt.subplot(2, 3, 1)\n",
    "survival_by_gender_class = df.groupby(['Sex', 'Pclass'])['Survived'].mean().unstack()\n",
    "sns.heatmap(survival_by_gender_class, annot=True, fmt='.2f', cmap='RdYlGn')\n",
    "plt.title('Survival Rate by Gender and Class')\n",
    "\n",
    "# Age groups analysis\n",
    "df['AgeGroup'] = pd.cut(df['Age'], bins=[0, 12, 18, 35, 60, 100], \n",
    "                        labels=['Child', 'Teen', 'Adult', 'Middle-aged', 'Senior'])\n",
    "\n",
    "plt.subplot(2, 3, 2)\n",
    "sns.barplot(data=df, x='AgeGroup', y='Survived', ci=None)\n",
    "plt.title('Survival Rate by Age Group')\n",
    "plt.xticks(rotation=45)\n",
    "\n",
    "# Fare groups analysis\n",
    "df['FareGroup'] = pd.cut(df['Fare'], bins=[0, 10, 25, 50, 100, 600], \n",
    "                         labels=['Very Low', 'Low', 'Medium', 'High', 'Very High'])\n",
    "\n",
    "plt.subplot(2, 3, 3)\n",
    "sns.barplot(data=df, x='FareGroup', y='Survived', ci=None)\n",
    "plt.title('Survival Rate by Fare Group')\n",
    "plt.xticks(rotation=45)\n",
    "\n",
    "# Gender + Age Group vs Survival\n",
    "plt.subplot(2, 3, 4)\n",
    "gender_age_survival = df.groupby(['Sex', 'AgeGroup'])['Survived'].mean().unstack()\n",
    "sns.heatmap(gender_age_survival, annot=True, fmt='.2f', cmap='RdYlGn')\n",
    "plt.title('Survival Rate by Gender and Age Group')\n",
    "\n",
    "# Class + Embarkation vs Survival\n",
    "plt.subplot(2, 3, 5)\n",
    "class_embark_survival = df.groupby(['Pclass', 'Embarked'])['Survived'].mean().unstack()\n",
    "sns.heatmap(class_embark_survival, annot=True, fmt='.2f', cmap='RdYlGn')\n",
    "plt.title('Survival Rate by Class and Embarkation')\n",
    "\n",
    "# Family Size + Class vs Survival\n",
    "plt.subplot(2, 3, 6)\n",
    "df['FamilySizeGroup'] = df['FamilySize'].apply(lambda x: 'Small' if x <= 2 else ('Medium' if x <= 4 else 'Large'))\n",
    "family_class_survival = df.groupby(['FamilySizeGroup', 'Pclass'])['Survived'].mean().unstack()\n",
    "sns.heatmap(family_class_survival, annot=True, fmt='.2f', cmap='RdYlGn')\n",
    "plt.title('Survival Rate by Family Size and Class')\n",
    "\n",
    "plt.tight_layout()\n",
    "plt.show()"
   ]
  },
  {
   "cell_type": "markdown",
   "id": "d6d36ca0",
   "metadata": {},
   "source": [
    "### Step 6: Summary Statistics and Key Findings"
   ]
  },
  {
   "cell_type": "code",
   "execution_count": null,
   "id": "b2cec88f",
   "metadata": {},
   "outputs": [],
   "source": [
    "print(\"=\"*60)\n",
    "print(\"COMPREHENSIVE EDA SUMMARY - TITANIC DATASET\")\n",
    "print(\"=\"*60)\n",
    "\n",
    "print(\"\\n1. DATASET OVERVIEW:\")\n",
    "print(f\"   - Total passengers: {len(df)}\")\n",
    "print(f\"   - Features: {len(df.columns)}\")\n",
    "print(f\"   - Overall survival rate: {df['Survived'].mean():.2%}\")\n",
    "\n",
    "print(\"\\n2. MISSING DATA:\")\n",
    "missing_summary = df.isnull().sum()[df.isnull().sum() > 0]\n",
    "for col, missing in missing_summary.items():\n",
    "    print(f\"   - {col}: {missing} ({missing/len(df)*100:.1f}%)\")\n",
    "\n",
    "print(\"\\n3. KEY SURVIVAL FACTORS:\")\n",
    "print(\"   Gender Impact:\")\n",
    "female_survival = df[df['Sex'] == 'female']['Survived'].mean()\n",
    "male_survival = df[df['Sex'] == 'male']['Survived'].mean()\n",
    "print(f\"   - Female survival rate: {female_survival:.2%}\")\n",
    "print(f\"   - Male survival rate: {male_survival:.2%}\")\n",
    "print(f\"   - Gender difference: {female_survival - male_survival:.2%}\")\n",
    "\n",
    "print(\"\\n   Class Impact:\")\n",
    "for pclass in [1, 2, 3]:\n",
    "    class_survival = df[df['Pclass'] == pclass]['Survived'].mean()\n",
    "    print(f\"   - Class {pclass} survival rate: {class_survival:.2%}\")\n",
    "\n",
    "print(\"\\n   Age Impact:\")\n",
    "child_survival = df[df['Age'] <= 12]['Survived'].mean()\n",
    "adult_survival = df[df['Age'] > 12]['Survived'].mean()\n",
    "print(f\"   - Children (≤12) survival rate: {child_survival:.2%}\")\n",
    "print(f\"   - Adults (>12) survival rate: {adult_survival:.2%}\")\n",
    "\n",
    "print(\"\\n   Family Size Impact:\")\n",
    "alone_survival = df[df['IsAlone'] == 1]['Survived'].mean()\n",
    "family_survival = df[df['IsAlone'] == 0]['Survived'].mean()\n",
    "print(f\"   - Traveling alone survival rate: {alone_survival:.2%}\")\n",
    "print(f\"   - Traveling with family survival rate: {family_survival:.2%}\")\n",
    "\n",
    "print(\"\\n4. STATISTICAL INSIGHTS:\")\n",
    "print(f\"   - Average age: {df['Age'].mean():.1f} years\")\n",
    "print(f\"   - Average fare: ${df['Fare'].mean():.2f}\")\n",
    "print(f\"   - Most common embarkation port: {df['Embarked'].mode().iloc[0]}\")\n",
    "print(f\"   - Most common class: {df['Pclass'].mode().iloc[0]}\")\n",
    "\n",
    "print(\"\\n5. CORRELATIONS WITH SURVIVAL:\")\n",
    "correlations = df[['Survived', 'Pclass', 'Age', 'SibSp', 'Parch', 'Fare', 'FamilySize']].corr()['Survived'].abs().sort_values(ascending=False)\n",
    "for feature, corr in correlations.items():\n",
    "    if feature != 'Survived' and corr > 0.1:\n",
    "        print(f\"   - {feature}: {corr:.3f}\")"
   ]
  },
  {
   "cell_type": "markdown",
   "id": "7bb002b2",
   "metadata": {},
   "source": [
    "### Step 7: Save our Work"
   ]
  },
  {
   "cell_type": "code",
   "execution_count": null,
   "id": "82bfd1cc",
   "metadata": {},
   "outputs": [],
   "source": [
    "# Save the enhanced dataset with new features\n",
    "df.to_csv('data/titanic_with_features.csv', index=False)\n",
    "print(\"Enhanced dataset with new features saved as 'titanic_with_features.csv'\")"
   ]
  }
 ],
 "metadata": {
  "kernelspec": {
   "display_name": ".titanic_env (3.13.7)",
   "language": "python",
   "name": "python3"
  },
  "language_info": {
   "codemirror_mode": {
    "name": "ipython",
    "version": 3
   },
   "file_extension": ".py",
   "mimetype": "text/x-python",
   "name": "python",
   "nbconvert_exporter": "python",
   "pygments_lexer": "ipython3",
   "version": "3.13.7"
  }
 },
 "nbformat": 4,
 "nbformat_minor": 5
}
